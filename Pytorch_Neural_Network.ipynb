{
 "cells": [
  {
   "cell_type": "code",
   "execution_count": 4,
   "id": "3b8bb937",
   "metadata": {
    "ExecuteTime": {
     "end_time": "2022-08-11T14:30:21.894100Z",
     "start_time": "2022-08-11T14:30:21.888093Z"
    }
   },
   "outputs": [],
   "source": [
    "# !pip install torch"
   ]
  },
  {
   "cell_type": "code",
   "execution_count": 5,
   "id": "04681c95",
   "metadata": {
    "ExecuteTime": {
     "end_time": "2022-08-11T14:30:21.909073Z",
     "start_time": "2022-08-11T14:30:21.902533Z"
    }
   },
   "outputs": [],
   "source": [
    "import helper"
   ]
  },
  {
   "cell_type": "code",
   "execution_count": 6,
   "id": "b48ecb89",
   "metadata": {
    "ExecuteTime": {
     "end_time": "2022-08-11T14:30:21.932253Z",
     "start_time": "2022-08-11T14:30:21.913293Z"
    }
   },
   "outputs": [],
   "source": [
    "import numpy as np\n",
    "# Setting the random seed, feel free to change it and see different solutions.\n",
    "x = np.random.seed(42)\n",
    "\n",
    "def stepFunction(t):\n",
    "    if t >= 0:\n",
    "        return 1\n",
    "    return 0\n",
    "\n",
    "def prediction(X, W, b):\n",
    "    return stepFunction((np.matmul(X,W)+b)[0])\n",
    "\n",
    "# TODO: Fill in the code below to implement the perceptron trick.\n",
    "# The function should receive as inputs the data X, the labels y,\n",
    "# the weights W (as an array), and the bias b,\n",
    "# update the weights and bias W, b, according to the perceptron algorithm,\n",
    "# and return W and b.\n",
    "def perceptronStep(X, y, W, b, learn_rate = 0.01):\n",
    "    for i in range(len(X)):\n",
    "        y_hat = prediction(X[i],W,b)\n",
    "        if y[i]-y_hat == 1:\n",
    "            W[0] += X[i][0]*learn_rate\n",
    "            W[1] += X[i][1]*learn_rate\n",
    "            b += learn_rate\n",
    "        elif y[i]-y_hat == -1:\n",
    "            W[0] -= X[i][0]*learn_rate\n",
    "            W[1] -= X[i][1]*learn_rate\n",
    "            b -= learn_rate\n",
    "    return W, b\n",
    "\n",
    "\n",
    "# This function runs the perceptron algorithm repeatedly on the dataset,\n",
    "# and returns a few of the boundary lines obtained in the iterations,\n",
    "# for plotting purposes.\n",
    "# Feel free to play with the learning rate and the num_epochs,\n",
    "# and see your results plotted below.\n",
    "def trainPerceptronAlgorithm(X, y, learn_rate = 0.01, num_epochs = 25):\n",
    "    x_min, x_max = min(X.T[0]), max(X.T[0])\n",
    "    y_min, y_max = min(X.T[1]), max(X.T[1])\n",
    "    W = np.array(np.random.rand(2,1))\n",
    "    b = np.random.rand(1)[0] + x_max\n",
    "    # These are the solution lines that get plotted below.\n",
    "    boundary_lines = []\n",
    "    for i in range(num_epochs):\n",
    "        # In each epoch, we apply the perceptron step.\n",
    "        W, b = perceptronStep(X, y, W, b, learn_rate)\n",
    "        boundary_lines.append((-W[0]/W[1], -b/W[1]))\n",
    "    return boundary_lines\n"
   ]
  },
  {
   "cell_type": "markdown",
   "id": "e0e60546",
   "metadata": {},
   "source": [
    "## Soft max code"
   ]
  },
  {
   "cell_type": "code",
   "execution_count": 7,
   "id": "e43ee0ef",
   "metadata": {
    "ExecuteTime": {
     "end_time": "2022-08-11T14:30:21.944728Z",
     "start_time": "2022-08-11T14:30:21.939021Z"
    }
   },
   "outputs": [],
   "source": [
    "import numpy as np\n",
    "\n",
    "# Write a function that takes as input a list of numbers, and returns\n",
    "# the list of values given by the softmax function.\n",
    "def softmax(L):\n",
    "    expL = np.exp(L)\n",
    "    sumExpL = sum(expL)\n",
    "    result = []\n",
    "    for i in expL:\n",
    "        result.append(i*1.0/sumExpL)\n",
    "    return result\n",
    "    \n",
    "    # Note: The function np.divide can also be used here, as follows:\n",
    "    # def softmax(L):\n",
    "    #     expL = np.exp(L)\n",
    "    #     return np.divide (expL, expL.sum())\n",
    "\n",
    "    pass"
   ]
  },
  {
   "cell_type": "code",
   "execution_count": 8,
   "id": "c2bbd9b7",
   "metadata": {
    "ExecuteTime": {
     "end_time": "2022-08-11T14:30:21.954979Z",
     "start_time": "2022-08-11T14:30:21.948787Z"
    }
   },
   "outputs": [
    {
     "name": "stdout",
     "output_type": "stream",
     "text": [
      "[0.012754781742087938, 0.03467109143547885, 0.25618663962790716, 0.696387487194526]\n"
     ]
    }
   ],
   "source": [
    "L = [1,2,4,5]\n",
    "print(softmax(L))"
   ]
  },
  {
   "cell_type": "markdown",
   "id": "ca0643c3",
   "metadata": {},
   "source": [
    "## Cross Entropy"
   ]
  },
  {
   "cell_type": "code",
   "execution_count": 9,
   "id": "e5d9bc10",
   "metadata": {
    "ExecuteTime": {
     "end_time": "2022-08-11T14:30:22.087691Z",
     "start_time": "2022-08-11T14:30:22.080897Z"
    }
   },
   "outputs": [],
   "source": [
    "import numpy as np\n",
    "\n",
    "# Write a function that takes as input two lists Y, P,\n",
    "# and returns the float corresponding to their cross-entropy.\n",
    "\n",
    "def cross_entropy(Y, P):\n",
    "    Y = np.float_(Y)\n",
    "    P = np.float_(P)\n",
    "    return -np.sum(Y * np.log(P) + (1 - Y) * np.log(1 - P))"
   ]
  },
  {
   "cell_type": "code",
   "execution_count": 10,
   "id": "a1204817",
   "metadata": {
    "ExecuteTime": {
     "end_time": "2022-08-11T14:30:22.117327Z",
     "start_time": "2022-08-11T14:30:22.095269Z"
    }
   },
   "outputs": [
    {
     "data": {
      "text/plain": [
       "1.6094379124341003"
      ]
     },
     "execution_count": 10,
     "metadata": {},
     "output_type": "execute_result"
    }
   ],
   "source": [
    "cross_entropy(1,0.2)"
   ]
  },
  {
   "cell_type": "markdown",
   "id": "aae7a9fb",
   "metadata": {},
   "source": [
    "## Gradient Descent "
   ]
  },
  {
   "cell_type": "code",
   "execution_count": 11,
   "id": "c010a1b2",
   "metadata": {
    "ExecuteTime": {
     "end_time": "2022-08-11T14:30:22.128467Z",
     "start_time": "2022-08-11T14:30:22.120616Z"
    }
   },
   "outputs": [],
   "source": [
    "# Activation (sigmoid) function\n",
    "def sigmoid(x):\n",
    "    return 1 / (1 + np.exp(-x))\n",
    "\n",
    "def output_formula(features, weights, bias):\n",
    "    return sigmoid(np.dot(features, weights) + bias)\n",
    "\n",
    "def error_formula(y, output):\n",
    "    return - y*np.log(output) - (1 - y) * np.log(1-output)\n",
    "\n",
    "def update_weights(x, y, weights, bias, learnrate):\n",
    "    output = output_formula(x, weights, bias)\n",
    "    d_error = y - output\n",
    "    weights += learnrate * d_error * x\n",
    "    bias += learnrate * d_error\n",
    "    return weights, bias"
   ]
  },
  {
   "cell_type": "code",
   "execution_count": 12,
   "id": "7f9d8bc3",
   "metadata": {
    "ExecuteTime": {
     "end_time": "2022-08-11T14:30:22.201182Z",
     "start_time": "2022-08-11T14:30:22.192791Z"
    }
   },
   "outputs": [
    {
     "data": {
      "text/plain": [
       "0.9999938558253978"
      ]
     },
     "execution_count": 12,
     "metadata": {},
     "output_type": "execute_result"
    }
   ],
   "source": [
    "sigmoid(12)"
   ]
  },
  {
   "cell_type": "code",
   "execution_count": 13,
   "id": "1d7bdd4b",
   "metadata": {
    "ExecuteTime": {
     "end_time": "2022-08-11T14:30:22.210777Z",
     "start_time": "2022-08-11T14:30:22.206206Z"
    }
   },
   "outputs": [],
   "source": [
    "import torch"
   ]
  },
  {
   "cell_type": "code",
   "execution_count": 14,
   "id": "53087c32",
   "metadata": {
    "ExecuteTime": {
     "end_time": "2022-08-11T14:30:22.219278Z",
     "start_time": "2022-08-11T14:30:22.214319Z"
    }
   },
   "outputs": [],
   "source": [
    "def activation(x):\n",
    "    #sigmoig function\n",
    "    return 1/(1+torch.exp(-x))"
   ]
  },
  {
   "cell_type": "code",
   "execution_count": 15,
   "id": "1a3778bd",
   "metadata": {
    "ExecuteTime": {
     "end_time": "2022-08-11T14:30:22.341260Z",
     "start_time": "2022-08-11T14:30:22.306413Z"
    }
   },
   "outputs": [],
   "source": [
    "torch.manual_seed(7) ## Random data generation\n",
    "features = torch.randn((1,5)) # five variables creating with normal values(r by c)\n",
    "\n",
    "weights = torch.randn_like(features) ## random weights with the same shape as features, normal values\n",
    "\n",
    "#creating bias\n",
    "bias = torch.randn((1,1))"
   ]
  },
  {
   "cell_type": "code",
   "execution_count": 16,
   "id": "6612ddb0",
   "metadata": {
    "ExecuteTime": {
     "end_time": "2022-08-11T14:30:22.356035Z",
     "start_time": "2022-08-11T14:30:22.345292Z"
    }
   },
   "outputs": [
    {
     "data": {
      "text/plain": [
       "tensor([[0.1595]])"
      ]
     },
     "execution_count": 16,
     "metadata": {},
     "output_type": "execute_result"
    }
   ],
   "source": [
    "features,weights, bias\n",
    "\n",
    "function = torch.sum(features* weights) +bias ## function for solving the equation\n",
    "\n",
    "activation(function)"
   ]
  },
  {
   "cell_type": "code",
   "execution_count": 17,
   "id": "1f2a8e7a",
   "metadata": {
    "ExecuteTime": {
     "end_time": "2022-08-11T14:30:22.363800Z",
     "start_time": "2022-08-11T14:30:22.359038Z"
    }
   },
   "outputs": [],
   "source": [
    "function = torch.sum(features* weights) +bias ## function for solving the equation"
   ]
  },
  {
   "cell_type": "code",
   "execution_count": 18,
   "id": "2a18f385",
   "metadata": {
    "ExecuteTime": {
     "end_time": "2022-08-11T14:30:22.375428Z",
     "start_time": "2022-08-11T14:30:22.367924Z"
    }
   },
   "outputs": [
    {
     "data": {
      "text/plain": [
       "tensor([[0.1595]])"
      ]
     },
     "execution_count": 18,
     "metadata": {},
     "output_type": "execute_result"
    }
   ],
   "source": [
    "activation(function)"
   ]
  },
  {
   "cell_type": "code",
   "execution_count": 19,
   "id": "12e8d22e",
   "metadata": {
    "ExecuteTime": {
     "end_time": "2022-08-11T14:30:22.384666Z",
     "start_time": "2022-08-11T14:30:22.378027Z"
    }
   },
   "outputs": [
    {
     "data": {
      "text/plain": [
       "(torch.Size([1, 5]), torch.Size([1, 5]))"
      ]
     },
     "execution_count": 19,
     "metadata": {},
     "output_type": "execute_result"
    }
   ],
   "source": [
    "features.shape, weights.shape"
   ]
  },
  {
   "cell_type": "markdown",
   "id": "3306a7ac",
   "metadata": {},
   "source": [
    "##   Reshaping techniques\n",
    "- tensor.reshape gives re shaped arrays but sometime clones the values \n",
    "- tensor.resize_() keep the data as it is, but if the given shape is not same as the previous one you will loose the data\n",
    "- tensor.view() gives back the data\n",
    "- best one is the tensor.view()\n",
    "\n",
    "\n",
    "- Calculation of layers with matrix multiplication, torch.matmul and torch.mm"
   ]
  },
  {
   "cell_type": "code",
   "execution_count": 20,
   "id": "862aced5",
   "metadata": {
    "ExecuteTime": {
     "end_time": "2022-08-11T14:30:22.402993Z",
     "start_time": "2022-08-11T14:30:22.389528Z"
    }
   },
   "outputs": [
    {
     "data": {
      "text/plain": [
       "(tensor([[0.1595]]), tensor([[0.1595]]))"
      ]
     },
     "execution_count": 20,
     "metadata": {},
     "output_type": "execute_result"
    }
   ],
   "source": [
    "weights = weights.view(5,1)\n",
    "y = torch.matmul(features, weights) +bias\n",
    "y1 = torch.mm(features, weights) +bias\n",
    "activation(y), activation(y1)"
   ]
  },
  {
   "cell_type": "code",
   "execution_count": 21,
   "id": "513ebad4",
   "metadata": {
    "ExecuteTime": {
     "end_time": "2022-08-11T14:30:22.412932Z",
     "start_time": "2022-08-11T14:30:22.406263Z"
    }
   },
   "outputs": [],
   "source": [
    "features1 = torch.randn((1,3)) # three variables creating with normal values(r by c)\n",
    "n_input = features1.shape[1]\n",
    "\n",
    "\n",
    "n_hidden = 2\n",
    "n_output = 1\n",
    "\n",
    "# weights with the shape of input and output \n",
    "\n",
    "w1 = torch.randn(n_input ,n_hidden) \n",
    "w2 = torch.randn(n_hidden,n_output ) # out put layer weight\n",
    "\n",
    "\n",
    "#creating bias\n",
    "b1 = torch.randn((1,n_hidden))\n",
    "b2 = torch.randn((1,n_output))"
   ]
  },
  {
   "cell_type": "code",
   "execution_count": 22,
   "id": "d8e08f85",
   "metadata": {
    "ExecuteTime": {
     "end_time": "2022-08-11T14:30:22.598129Z",
     "start_time": "2022-08-11T14:30:22.585342Z"
    }
   },
   "outputs": [
    {
     "data": {
      "text/plain": [
       "tensor([[0.8805]])"
      ]
     },
     "execution_count": 22,
     "metadata": {},
     "output_type": "execute_result"
    }
   ],
   "source": [
    "h= activation(torch.mm(features1,w1) +b1)\n",
    "output = activation(torch.mm(h,w2)+b2)\n",
    "output"
   ]
  },
  {
   "cell_type": "markdown",
   "id": "12cb6009",
   "metadata": {},
   "source": [
    "## Numpy to torch and back "
   ]
  },
  {
   "cell_type": "code",
   "execution_count": 23,
   "id": "605336da",
   "metadata": {
    "ExecuteTime": {
     "end_time": "2022-08-11T14:30:22.610136Z",
     "start_time": "2022-08-11T14:30:22.601512Z"
    }
   },
   "outputs": [
    {
     "data": {
      "text/plain": [
       "tensor([[0.3745, 0.9507, 0.7320],\n",
       "        [0.5987, 0.1560, 0.1560],\n",
       "        [0.0581, 0.8662, 0.6011],\n",
       "        [0.7081, 0.0206, 0.9699]], dtype=torch.float64)"
      ]
     },
     "execution_count": 23,
     "metadata": {},
     "output_type": "execute_result"
    }
   ],
   "source": [
    "array = np.random.rand(4,3)\n",
    "ar1 = torch.from_numpy(array)\n",
    "ar1"
   ]
  },
  {
   "cell_type": "code",
   "execution_count": 24,
   "id": "9f50d9d8",
   "metadata": {
    "ExecuteTime": {
     "end_time": "2022-08-11T14:30:22.620527Z",
     "start_time": "2022-08-11T14:30:22.613352Z"
    }
   },
   "outputs": [
    {
     "data": {
      "text/plain": [
       "array([[0.37454012, 0.95071431, 0.73199394],\n",
       "       [0.59865848, 0.15601864, 0.15599452],\n",
       "       [0.05808361, 0.86617615, 0.60111501],\n",
       "       [0.70807258, 0.02058449, 0.96990985]])"
      ]
     },
     "execution_count": 24,
     "metadata": {},
     "output_type": "execute_result"
    }
   ],
   "source": [
    "ar1.numpy()"
   ]
  },
  {
   "cell_type": "code",
   "execution_count": 25,
   "id": "a133fef6",
   "metadata": {
    "ExecuteTime": {
     "end_time": "2022-08-11T14:30:22.657420Z",
     "start_time": "2022-08-11T14:30:22.647419Z"
    }
   },
   "outputs": [
    {
     "data": {
      "text/plain": [
       "tensor([[0.7491, 1.9014, 1.4640],\n",
       "        [1.1973, 0.3120, 0.3120],\n",
       "        [0.1162, 1.7324, 1.2022],\n",
       "        [1.4161, 0.0412, 1.9398]], dtype=torch.float64)"
      ]
     },
     "execution_count": 25,
     "metadata": {},
     "output_type": "execute_result"
    }
   ],
   "source": [
    "# multiply with two and in place\n",
    "ar1.mul_(2)"
   ]
  },
  {
   "cell_type": "markdown",
   "id": "197d5819",
   "metadata": {},
   "source": [
    "## Neural Network with Py torch "
   ]
  },
  {
   "cell_type": "code",
   "execution_count": 26,
   "id": "6288b4cb",
   "metadata": {
    "ExecuteTime": {
     "end_time": "2022-08-11T14:30:22.694571Z",
     "start_time": "2022-08-11T14:30:22.660940Z"
    }
   },
   "outputs": [],
   "source": [
    "# Import necessary packages\n",
    "\n",
    "%matplotlib inline\n",
    "%config InlineBackend.figure_format = 'retina'\n",
    "\n",
    "import numpy as np\n",
    "import torch\n",
    "\n",
    "import helper\n",
    "\n",
    "import matplotlib.pyplot as plt"
   ]
  },
  {
   "cell_type": "code",
   "execution_count": 27,
   "id": "617e53c7",
   "metadata": {
    "ExecuteTime": {
     "end_time": "2022-08-11T14:30:22.798533Z",
     "start_time": "2022-08-11T14:30:22.786708Z"
    }
   },
   "outputs": [],
   "source": [
    "# The MNIST datasets are hosted on yann.lecun.com that has moved under CloudFlare protection\n",
    "# Run this script to enable the datasets download\n",
    "# Reference: https://github.com/pytorch/vision/issues/1938\n",
    "\n",
    "from six.moves import urllib\n",
    "opener = urllib.request.build_opener()\n",
    "opener.addheaders = [('User-agent', 'Mozilla/5.0')]\n",
    "urllib.request.install_opener(opener)"
   ]
  },
  {
   "cell_type": "code",
   "execution_count": 28,
   "id": "03c665a8",
   "metadata": {
    "ExecuteTime": {
     "end_time": "2022-08-11T14:30:23.391980Z",
     "start_time": "2022-08-11T14:30:22.802613Z"
    }
   },
   "outputs": [],
   "source": [
    "### Run this cell\n",
    "\n",
    "from torchvision import datasets, transforms\n",
    "\n",
    "# Define a transform to normalize the data\n",
    "transform = transforms.Compose([transforms.ToTensor(),\n",
    "                              transforms.Normalize((0.5,), (0.5,)),\n",
    "                              ])\n",
    "\n",
    "# Download and load the training data\n",
    "trainset = datasets.MNIST('~/.pytorch/MNIST_data/', download=True, train=True, transform=transform)\n",
    "trainloader = torch.utils.data.DataLoader(trainset, batch_size=64, shuffle=True)"
   ]
  },
  {
   "cell_type": "code",
   "execution_count": 29,
   "id": "7b67ab89",
   "metadata": {
    "ExecuteTime": {
     "end_time": "2022-08-11T14:30:23.621682Z",
     "start_time": "2022-08-11T14:30:23.396397Z"
    }
   },
   "outputs": [
    {
     "name": "stdout",
     "output_type": "stream",
     "text": [
      "<class 'torch.Tensor'>\n",
      "torch.Size([64, 1, 28, 28])\n",
      "torch.Size([64])\n"
     ]
    }
   ],
   "source": [
    "dataiter = iter(trainloader)\n",
    "images, labels = dataiter.next()\n",
    "print(type(images))\n",
    "print(images.shape)\n",
    "print(labels.shape)"
   ]
  },
  {
   "cell_type": "code",
   "execution_count": 30,
   "id": "fc61e135",
   "metadata": {
    "ExecuteTime": {
     "end_time": "2022-08-11T14:30:24.107912Z",
     "start_time": "2022-08-11T14:30:23.624898Z"
    }
   },
   "outputs": [
    {
     "data": {
      "image/png": "[encoded data removed]",
      "text/plain": [
       "<Figure size 432x288 with 1 Axes>"
      ]
     },
     "metadata": {
      "image/png": {
       "height": 248,
       "width": 251
      },
      "needs_background": "light"
     },
     "output_type": "display_data"
    }
   ],
   "source": [
    "plt.imshow(images[1].numpy().squeeze(), cmap='Greys_r');\n"
   ]
  },
  {
   "cell_type": "code",
   "execution_count": 31,
   "id": "9d0480ca",
   "metadata": {
    "ExecuteTime": {
     "end_time": "2022-08-11T14:30:24.193560Z",
     "start_time": "2022-08-11T14:30:24.111620Z"
    }
   },
   "outputs": [
    {
     "data": {
      "text/plain": [
       "tensor([[-2.3793e+01,  2.0824e+00,  4.5468e+00, -2.7246e+00,  1.0188e+01,\n",
       "          6.6057e+00, -4.2441e+00,  6.3053e+00, -2.6993e+00, -1.5374e+01],\n",
       "        [-1.6181e+01, -2.3967e+00,  4.6947e+00, -9.6828e+00,  1.3922e+01,\n",
       "          7.3780e+00,  8.6824e+00,  1.4682e+01, -2.8522e+00, -5.1972e+00],\n",
       "        [-2.1124e+01,  1.4897e+01,  1.3860e+00, -1.5341e+01,  5.1440e+00,\n",
       "          1.0925e+01, -3.2781e+00,  1.2804e+01, -4.4876e+00, -3.9403e+00],\n",
       "        [-6.9418e+00,  9.0191e+00,  3.4653e+00, -1.4259e+01,  1.8231e+00,\n",
       "          8.7189e+00,  3.7324e+00,  7.2898e+00, -2.3497e+00, -1.2867e+01],\n",
       "        [-1.9588e+01,  1.2238e+01,  2.8656e+00,  1.4609e+00,  2.4866e+00,\n",
       "          1.1231e+01,  2.3946e+00,  1.6902e+01,  2.8385e+00, -8.3979e+00],\n",
       "        [-2.7152e+01, -8.9810e-01, -2.2499e-02, -1.8021e+01, -4.8907e-01,\n",
       "          1.2049e+01,  8.0524e+00,  8.9564e+00, -1.1118e+00, -1.3605e+01],\n",
       "        [-2.1683e+01,  8.6108e+00, -2.1247e+00, -1.0190e+01,  8.6081e+00,\n",
       "          8.8144e+00,  3.4306e+00,  2.6601e+00, -1.9803e+00, -1.2471e+01],\n",
       "        [-1.5311e+01,  5.5054e+00,  8.5999e+00, -4.2843e+00,  7.7651e-01,\n",
       "          7.3132e+00, -1.5488e+00,  2.0050e+01, -1.2785e+00, -1.4491e+01],\n",
       "        [-1.7066e+01,  6.0790e+00,  4.2121e+00, -1.6471e+01, -6.2281e+00,\n",
       "          1.2975e+01, -1.0513e+00,  1.5142e+01, -3.4714e+00, -6.8191e+00],\n",
       "        [-1.5068e+01,  1.1646e+01, -1.0284e+01, -8.1779e+00,  2.9772e+00,\n",
       "          5.5862e+00,  9.0354e+00,  1.7463e+01,  7.8297e-01, -9.2553e+00],\n",
       "        [-1.8567e+01,  4.3485e+00, -6.1715e+00,  8.6828e-01,  7.5519e+00,\n",
       "          1.2353e+01,  4.7454e+00,  1.3027e+01, -8.3741e-01, -9.7160e+00],\n",
       "        [-1.4240e+01,  7.4721e+00,  4.0288e-01, -7.8796e+00,  2.7926e+00,\n",
       "          9.0979e+00, -3.6689e+00,  1.1615e+01, -3.1151e+00, -1.2227e+01],\n",
       "        [-2.0062e+01,  7.3864e+00,  1.2266e+00, -3.3530e+00,  5.4133e+00,\n",
       "          1.1360e+01,  8.1640e+00,  2.4911e+01,  5.8275e+00, -1.2322e+01],\n",
       "        [-1.6403e+01,  1.3271e+00, -1.0407e+00, -1.7069e+01, -3.5220e+00,\n",
       "          1.7034e+01,  6.3606e-01,  1.2429e+01, -3.2638e-01, -9.9497e+00],\n",
       "        [-2.0086e+01,  1.1691e+01, -8.3929e-01, -1.3993e+01,  3.3608e+00,\n",
       "          1.1418e+01,  3.3659e+00,  1.8809e+01,  2.0813e+00, -1.6476e+01],\n",
       "        [-2.2099e+01,  1.7383e+01,  2.6640e+00, -1.2290e+01, -9.3903e+00,\n",
       "          1.1280e+00,  1.1307e+00,  1.6909e+01, -9.0495e+00, -7.2135e+00],\n",
       "        [-5.4897e+00,  8.7042e+00, -1.0529e+00, -1.4799e+01,  1.9207e+00,\n",
       "          9.5809e+00,  4.4535e+00,  1.6119e+01, -1.3240e+00, -1.0227e+01],\n",
       "        [-1.8111e+01,  5.4425e-01,  5.4517e+00, -3.4202e+00,  9.6385e+00,\n",
       "          3.0815e+00,  5.0302e+00,  1.0240e+01,  1.4693e+00, -2.6301e+01],\n",
       "        [-2.1857e+01,  3.9144e+00,  8.2907e+00, -1.4343e+01,  9.1150e+00,\n",
       "          1.7277e+01, -2.3538e+00,  9.6954e+00, -3.2061e+00, -5.7506e+00],\n",
       "        [-2.5831e+01,  1.2086e+01, -4.0272e+00, -6.4249e+00,  1.3217e+01,\n",
       "          8.3752e+00,  7.4376e+00,  1.1051e+01, -1.5607e+00, -6.3100e+00],\n",
       "        [-1.1823e+01,  8.2015e+00,  3.8878e+00, -1.4000e+01,  1.2003e+00,\n",
       "          8.0492e+00,  4.3669e+00,  1.0296e+01, -3.4035e+00, -4.6822e+00],\n",
       "        [-2.6351e+01,  1.5364e+01,  2.4421e+00, -1.4829e+01,  4.7260e+00,\n",
       "          1.0862e+01,  2.3566e+00,  1.5625e+01, -1.8325e+00, -8.1305e+00],\n",
       "        [-1.2502e+01,  7.2701e+00,  2.1071e+00, -6.5641e+00,  3.6138e+00,\n",
       "          1.6075e+01,  3.2355e+00,  1.0541e+01, -4.3525e+00, -1.3907e+01],\n",
       "        [-1.3302e+01,  1.0062e+01,  7.8432e+00, -7.6981e+00, -1.1751e+00,\n",
       "          1.4683e+01, -8.3295e-02,  6.1673e+00,  7.7095e+00, -8.5866e+00],\n",
       "        [-2.0792e+01,  6.8272e+00,  9.9385e+00, -5.7730e+00,  5.1002e+00,\n",
       "          8.4911e+00,  1.7478e+00,  1.7642e+01, -7.2659e-01, -1.8000e-01],\n",
       "        [-1.9060e+01,  5.3610e+00, -2.9453e+00, -1.0786e+01, -5.6650e-01,\n",
       "          1.1788e+01, -1.2420e+00,  2.1258e+01, -3.4124e+00, -5.4115e+00],\n",
       "        [-2.9859e+01,  1.3782e+01,  2.4982e+00, -7.3026e+00,  8.4556e+00,\n",
       "          1.0270e+01, -4.6239e-01,  1.5726e+01, -2.9957e+00, -1.8117e+01],\n",
       "        [-2.1678e+01,  6.5140e+00,  3.4080e+00, -1.5766e+01,  2.2999e+00,\n",
       "          1.1857e+01,  4.1762e+00,  2.6488e+01,  1.4313e+00, -4.8415e+00],\n",
       "        [-2.1043e+01,  1.9162e+00,  2.4340e+00, -1.0847e+01,  1.1637e+01,\n",
       "          1.0935e+00,  1.0257e+01,  1.3529e+01, -6.0752e+00, -2.2476e+00],\n",
       "        [-2.4911e+01,  7.6919e-01,  1.0591e+01, -1.2643e+01,  1.0739e+01,\n",
       "          5.7496e+00,  1.4662e+00,  9.6737e+00, -2.3162e+00, -1.6688e+01],\n",
       "        [-1.2006e+01, -4.6764e+00,  7.5442e+00, -1.4955e+01,  7.0673e+00,\n",
       "          1.2626e+01,  4.2557e+00,  1.2757e+01,  1.1844e+00, -1.4429e+01],\n",
       "        [-1.8646e+01, -5.7373e-01,  8.6343e+00, -1.4498e+01,  1.3165e+01,\n",
       "          1.5743e+00,  9.3904e+00,  1.9015e+01, -5.9567e-01, -5.0573e+00],\n",
       "        [-1.9721e+01,  9.2568e+00,  9.4965e+00, -1.1428e+01,  2.1213e+00,\n",
       "          1.4188e+01,  2.2463e+00,  1.1218e+01, -5.8655e+00, -1.2175e+01],\n",
       "        [-2.2042e+01, -5.1268e+00,  6.8862e+00, -1.5522e+01,  7.6071e+00,\n",
       "          1.2574e+01, -2.4799e+00,  9.9236e+00,  1.0724e+00, -1.6305e+01],\n",
       "        [-1.7891e+01,  1.6310e+01, -2.7772e+00, -5.4442e+00, -1.1491e+01,\n",
       "          8.4068e+00,  5.4519e+00,  1.9520e+01, -3.1194e+00, -8.3135e+00],\n",
       "        [-1.0692e+01,  1.5886e+01,  3.0818e+00, -1.7376e+01,  4.5526e+00,\n",
       "          1.6933e+01,  1.9425e-01,  1.8535e+01, -8.7559e-01, -1.2459e+01],\n",
       "        [-1.1448e+01,  3.7994e+00,  4.0302e+00, -1.9718e+01,  1.5577e+00,\n",
       "          1.4148e+01,  4.2346e+00,  1.0719e+01,  2.4531e-01, -1.3868e+01],\n",
       "        [-1.9270e+01,  1.5263e+01,  7.0291e+00, -1.5725e+01,  1.4443e+00,\n",
       "          9.5972e+00,  8.4353e+00,  1.9142e+01,  2.3259e+00, -3.3863e-01],\n",
       "        [-2.3166e+01,  8.8550e+00, -1.7812e+00, -1.4437e+01,  1.8967e+00,\n",
       "          7.7558e+00,  9.8695e-01,  2.4406e+01, -4.5212e+00, -1.7607e+01],\n",
       "        [-2.0428e+01,  6.8925e+00, -1.8206e+00, -3.6695e+00,  6.4920e+00,\n",
       "          1.6105e+01,  3.3203e+00,  1.3980e+01,  2.8882e-01, -1.6377e+01],\n",
       "        [-1.3045e+01,  1.8389e+01, -5.6943e+00, -1.4048e+01, -4.0954e+00,\n",
       "          8.8343e-01,  1.3050e+00,  1.8352e+01,  8.3042e-01, -1.0174e+01],\n",
       "        [-1.2203e+01,  7.1641e+00, -2.9427e-01, -7.7141e+00,  3.2151e+00,\n",
       "          3.0525e+00, -3.7877e-01,  9.0188e+00,  3.5685e+00, -1.5542e+01],\n",
       "        [-1.2830e+01,  1.2906e+01,  1.5208e+01, -1.4227e+01,  7.4461e+00,\n",
       "          1.0607e+01,  8.0799e+00,  1.7204e+00, -5.4973e+00, -5.7104e+00],\n",
       "        [-1.5898e+01,  7.6600e+00, -3.2837e+00, -4.9587e+00,  7.1665e+00,\n",
       "          1.4714e+01, -3.1057e-01,  2.3744e+01,  2.2791e+00, -1.3766e+01],\n",
       "        [-2.1005e+01,  1.3252e+01,  3.7279e-01, -1.4026e+01,  5.8864e+00,\n",
       "          3.6233e+00,  4.7830e+00,  1.9935e+01, -7.8404e+00, -1.6252e+01],\n",
       "        [-2.0727e+01,  5.4477e+00,  2.6677e+00, -9.2728e+00,  7.9917e+00,\n",
       "          4.9478e+00,  4.7750e+00,  1.9962e+01,  5.3409e+00, -7.6303e+00],\n",
       "        [-9.4005e+00,  1.4127e+01,  5.6154e+00, -1.0926e+01,  6.8850e+00,\n",
       "          8.5096e+00,  7.0984e+00,  1.6441e+01,  5.5912e-01, -1.4075e+01],\n",
       "        [-1.1345e+01,  5.0174e+00,  7.3570e+00, -1.5494e+01,  7.9292e+00,\n",
       "          5.2892e+00,  5.4632e+00,  1.4355e+01,  4.6199e+00, -1.8715e+00],\n",
       "        [-1.5190e+01,  1.1137e+01,  1.8002e+00, -1.9221e+01,  7.0228e+00,\n",
       "          1.9829e+00,  1.1689e+01,  1.6167e+01, -5.6081e+00, -1.8657e+01],\n",
       "        [-1.3336e+01,  1.2435e+00,  1.3451e+00, -1.2725e+01,  1.1478e+01,\n",
       "          1.4166e+01,  5.0927e+00,  1.7957e+01, -3.7020e+00, -5.4131e+00],\n",
       "        [-1.6397e+01,  1.4316e+01,  2.8538e+00, -1.0976e+01, -3.3869e-01,\n",
       "          2.5031e+00, -4.8059e+00,  1.8520e+01, -2.9707e+00, -6.2430e+00],\n",
       "        [-3.0520e+01,  1.0611e+01, -5.1261e+00, -1.8479e+01, -2.4463e+00,\n",
       "          5.7402e+00,  1.6839e-01,  1.3271e+01,  5.6704e-01, -7.5162e+00],\n",
       "        [-1.9387e+01,  1.2250e+00,  4.2797e+00, -9.3268e+00,  1.4799e+01,\n",
       "          7.3382e+00, -8.6775e-01,  1.1068e+01, -3.5768e+00,  1.4814e+00],\n",
       "        [-1.3584e+01,  5.1232e+00,  9.9631e-01, -6.0011e+00,  7.5301e+00,\n",
       "          1.7787e+00,  9.2165e-02,  1.4158e+01,  4.5319e+00, -1.1651e+01],\n",
       "        [-1.6669e+01,  8.8690e+00,  1.6067e+00, -1.2327e+01,  5.9134e+00,\n",
       "          1.0568e+00,  3.2613e+00,  1.2694e+01, -1.0075e+00, -1.0345e+01],\n",
       "        [-2.6275e+01, -3.7776e+00,  3.2944e+00, -1.6729e+01,  1.3563e+01,\n",
       "          6.4835e+00,  9.0552e+00,  2.1377e+01,  4.0574e+00, -7.3342e+00],\n",
       "        [-1.7117e+01,  1.2912e+00,  2.4224e+00, -8.6609e+00,  6.4331e+00,\n",
       "          1.8920e+01,  4.3339e+00,  1.1642e+01,  5.3210e+00, -1.0144e+01],\n",
       "        [-3.0214e+01,  1.1435e+01,  5.8462e+00, -8.8964e+00,  5.4723e+00,\n",
       "          5.7470e+00,  2.7352e+00,  1.0734e+01, -4.9102e+00, -7.7679e+00],\n",
       "        [-2.0245e+01,  1.7372e+01,  6.0931e+00, -1.5333e+01,  3.3871e+00,\n",
       "          9.3647e+00,  7.9733e+00,  2.3909e+01, -4.0914e+00, -2.3142e+01],\n",
       "        [-2.0435e+01,  1.2569e+01, -5.8024e+00, -2.2029e+01, -9.9648e+00,\n",
       "          1.2380e+01,  9.7017e-01,  1.6807e+01, -3.8410e+00, -5.4958e-01],\n",
       "        [-1.9524e+01,  5.2958e+00,  2.9762e+00, -1.8190e+01,  3.1817e+00,\n",
       "          1.0824e+01, -5.8281e+00,  1.6261e+01, -4.1283e+00, -1.0942e+01],\n",
       "        [-4.4650e+00,  8.8619e+00,  5.0856e+00, -1.3409e+01,  1.0720e+01,\n",
       "          1.0369e+01,  5.6167e+00,  1.1192e+01,  1.5217e+00, -1.1876e+01],\n",
       "        [-7.4438e+00,  3.2652e+00, -3.2441e+00, -6.5413e+00,  9.7625e+00,\n",
       "          4.3263e+00,  4.6430e+00,  2.2121e+01,  2.9843e+00, -1.0503e+01],\n",
       "        [-1.0285e+01,  5.5267e+00,  9.2046e+00, -2.0097e+01, -4.5680e+00,\n",
       "          1.7388e+01,  9.7425e+00,  1.7632e+01, -3.6989e+00, -1.5132e+01]])"
      ]
     },
     "execution_count": 31,
     "metadata": {},
     "output_type": "execute_result"
    }
   ],
   "source": [
    "# sigmoid images\n",
    "def activation(x):\n",
    "    #sigmoig function\n",
    "    return 1/(1+torch.exp(-x))\n",
    "# batch size taking all vaalues of elements. flattening the array \n",
    "inputs = images.view(images.shape[0], -1)\n",
    "\n",
    "#parameters:\n",
    "features1 = torch.randn((1,3)) # three variables creating with normal values(r by c)\n",
    "n_input = features1.shape[1]\n",
    "\n",
    "# weights with the shape of input and output \n",
    "\n",
    "w1 = torch.randn(784 ,256) \n",
    "w2 = torch.randn(256,10 ) # out put layer weight\n",
    "\n",
    "\n",
    "#creating bias\n",
    "b1 = torch.randn((256))\n",
    "b2 = torch.randn((10))\n",
    "\n",
    "h = activation(torch.mm(inputs, w1)+b1)\n",
    "\n",
    "\n",
    "output = torch.mm(h,w2)+b2\n",
    "output"
   ]
  },
  {
   "cell_type": "code",
   "execution_count": 32,
   "id": "2f2f9d8d",
   "metadata": {
    "ExecuteTime": {
     "end_time": "2022-08-11T14:30:24.207684Z",
     "start_time": "2022-08-11T14:30:24.197178Z"
    }
   },
   "outputs": [
    {
     "name": "stdout",
     "output_type": "stream",
     "text": [
      "torch.Size([64, 10])\n",
      "tensor([1.0000, 1.0000, 1.0000, 1.0000, 1.0000, 1.0000, 1.0000, 1.0000, 1.0000,\n",
      "        1.0000, 1.0000, 1.0000, 1.0000, 1.0000, 1.0000, 1.0000, 1.0000, 1.0000,\n",
      "        1.0000, 1.0000, 1.0000, 1.0000, 1.0000, 1.0000, 1.0000, 1.0000, 1.0000,\n",
      "        1.0000, 1.0000, 1.0000, 1.0000, 1.0000, 1.0000, 1.0000, 1.0000, 1.0000,\n",
      "        1.0000, 1.0000, 1.0000, 1.0000, 1.0000, 1.0000, 1.0000, 1.0000, 1.0000,\n",
      "        1.0000, 1.0000, 1.0000, 1.0000, 1.0000, 1.0000, 1.0000, 1.0000, 1.0000,\n",
      "        1.0000, 1.0000, 1.0000, 1.0000, 1.0000, 1.0000, 1.0000, 1.0000, 1.0000,\n",
      "        1.0000])\n"
     ]
    }
   ],
   "source": [
    "def softmax(x):\n",
    "    # dim = 1 , sum accross the columns\n",
    "    return torch.exp(x)/ torch.sum(torch.exp(x), dim = 1).view(-1,1)\n",
    "\n",
    "# Here, out should be the output of the network in the previous excercise with shape (64,10)\n",
    "probabilities = softmax(output)\n",
    "\n",
    "# Does it have the right shape? Should be (64, 10)\n",
    "print(probabilities.shape)\n",
    "# Does it sum to 1?\n",
    "print(probabilities.sum(dim=1))"
   ]
  },
  {
   "cell_type": "code",
   "execution_count": 33,
   "id": "ea141423",
   "metadata": {
    "ExecuteTime": {
     "end_time": "2022-08-11T14:30:24.218206Z",
     "start_time": "2022-08-11T14:30:24.210835Z"
    }
   },
   "outputs": [],
   "source": [
    "from torch import nn\n",
    "class Network(nn.Module):\n",
    "    def __init__(self):\n",
    "        super().__init__()\n",
    "        \n",
    "        # Inputs to hidden layer linear transformation\n",
    "        self.hidden = nn.Linear(784, 256)\n",
    "        # Output layer, 10 units - one for each digit\n",
    "        self.output = nn.Linear(256, 10)\n",
    "        \n",
    "        # Define sigmoid activation and softmax output \n",
    "        self.sigmoid = nn.Sigmoid()\n",
    "        self.softmax = nn.Softmax(dim=1)\n",
    "        \n",
    "    def forward(self, x):\n",
    "        # Pass the input tensor through each of our operations\n",
    "        x = self.hidden(x)\n",
    "        x = self.sigmoid(x)\n",
    "        x = self.output(x)\n",
    "        x = self.softmax(x)\n",
    "        \n",
    "        return x"
   ]
  },
  {
   "cell_type": "code",
   "execution_count": 34,
   "id": "5083ce2f",
   "metadata": {
    "ExecuteTime": {
     "end_time": "2022-08-11T14:30:24.227674Z",
     "start_time": "2022-08-11T14:30:24.220516Z"
    }
   },
   "outputs": [
    {
     "data": {
      "text/plain": [
       "Network(\n",
       "  (hidden): Linear(in_features=784, out_features=256, bias=True)\n",
       "  (output): Linear(in_features=256, out_features=10, bias=True)\n",
       "  (sigmoid): Sigmoid()\n",
       "  (softmax): Softmax(dim=1)\n",
       ")"
      ]
     },
     "execution_count": 34,
     "metadata": {},
     "output_type": "execute_result"
    }
   ],
   "source": [
    "model = Network()\n",
    "model"
   ]
  },
  {
   "cell_type": "code",
   "execution_count": 35,
   "id": "fc1561ff",
   "metadata": {
    "ExecuteTime": {
     "end_time": "2022-08-11T14:30:24.238366Z",
     "start_time": "2022-08-11T14:30:24.229906Z"
    }
   },
   "outputs": [],
   "source": [
    "from torch import nn\n",
    "class Network(nn.Module):\n",
    "    def __init__(self):\n",
    "        super().__init__()\n",
    "        \n",
    "        # Inputs to hidden layer linear transformation\n",
    "        self.hidden = nn.Linear(784, 128)\n",
    "        self.hidden = nn.Linear(128, 64)\n",
    "        # Output layer, 10 units - one for each digit\n",
    "        self.output = nn.Linear(64, 10)\n",
    "        \n",
    "        # Define sigmoid activation and softmax output \n",
    "        self.sigmoid = nn.relu()\n",
    "        self.sigmoid = nn.relu()\n",
    "        self.softmax = nn.Softmax(dim=1)\n",
    "        \n",
    "    def forward(self, x):\n",
    "        # Pass the input tensor through each of our operations\n",
    "        x = self.hidden(x)\n",
    "        x = self.relu(x)        \n",
    "        x = self.hidden(x)\n",
    "        x = self.relu(x)\n",
    "        x = self.output(x)\n",
    "        x = self.softmax(x)\n",
    "        \n",
    "        return x"
   ]
  },
  {
   "cell_type": "code",
   "execution_count": 36,
   "id": "a44fa952",
   "metadata": {
    "ExecuteTime": {
     "end_time": "2022-08-11T14:30:24.308672Z",
     "start_time": "2022-08-11T14:30:24.241086Z"
    }
   },
   "outputs": [],
   "source": [
    "# Grab some data \n",
    "dataiter = iter(trainloader)\n",
    "images, labels = dataiter.next()\n",
    "\n",
    "# Resize images into a 1D vector, new shape is (batch size, color channels, image pixels) \n",
    "images.resize_(64, 1, 784)\n",
    "# or images.resize_(images.shape[0], 1, 784) to automatically get batch size\n",
    "\n",
    "# Forward pass through the network\n",
    "img_idx = 0\n",
    "ps = model.forward(images[img_idx,:])\n",
    "\n",
    "img = images[img_idx]\n"
   ]
  },
  {
   "cell_type": "code",
   "execution_count": 37,
   "id": "c56195fe",
   "metadata": {
    "ExecuteTime": {
     "end_time": "2022-08-11T14:30:24.524796Z",
     "start_time": "2022-08-11T14:30:24.395588Z"
    }
   },
   "outputs": [
    {
     "name": "stdout",
     "output_type": "stream",
     "text": [
      "Sequential(\n",
      "  (0): Linear(in_features=784, out_features=128, bias=True)\n",
      "  (1): ReLU()\n",
      "  (2): Linear(in_features=128, out_features=64, bias=True)\n",
      "  (3): ReLU()\n",
      "  (4): Linear(in_features=64, out_features=10, bias=True)\n",
      "  (5): Softmax(dim=1)\n",
      ")\n"
     ]
    }
   ],
   "source": [
    "# Hyperparameters for our network\n",
    "input_size = 784\n",
    "hidden_sizes = [128, 64]\n",
    "output_size = 10\n",
    "\n",
    "# Build a feed-forward network\n",
    "model = nn.Sequential(nn.Linear(input_size, hidden_sizes[0]),\n",
    "                      nn.ReLU(),\n",
    "                      nn.Linear(hidden_sizes[0], hidden_sizes[1]),\n",
    "                      nn.ReLU(),\n",
    "                      nn.Linear(hidden_sizes[1], output_size),\n",
    "                      nn.Softmax(dim=1))\n",
    "print(model)\n",
    "\n",
    "# Forward pass through the network and display output\n",
    "images, labels = next(iter(trainloader))\n",
    "images.resize_(images.shape[0], 1, 784)\n",
    "ps = model.forward(images[0,:])\n"
   ]
  },
  {
   "cell_type": "markdown",
   "id": "61e26cd9",
   "metadata": {},
   "source": [
    "## Training Neural Network"
   ]
  },
  {
   "cell_type": "code",
   "execution_count": 38,
   "id": "1602ee7a",
   "metadata": {
    "ExecuteTime": {
     "end_time": "2022-08-11T14:30:24.600180Z",
     "start_time": "2022-08-11T14:30:24.591320Z"
    }
   },
   "outputs": [],
   "source": [
    "# The MNIST datasets are hosted on yann.lecun.com that has moved under CloudFlare protection\n",
    "# Run this script to enable the datasets download\n",
    "# Reference: https://github.com/pytorch/vision/issues/1938\n",
    "\n",
    "from six.moves import urllib\n",
    "opener = urllib.request.build_opener()\n",
    "opener.addheaders = [('User-agent', 'Mozilla/5.0')]\n",
    "urllib.request.install_opener(opener)"
   ]
  },
  {
   "cell_type": "code",
   "execution_count": 39,
   "id": "b6459aa1",
   "metadata": {
    "ExecuteTime": {
     "end_time": "2022-08-11T14:30:24.712970Z",
     "start_time": "2022-08-11T14:30:24.604052Z"
    }
   },
   "outputs": [],
   "source": [
    "import torch\n",
    "from torch import nn\n",
    "import torch.nn.functional as F\n",
    "from torchvision import datasets, transforms\n",
    "\n",
    "# Define a transform to normalize the data\n",
    "transform = transforms.Compose([transforms.ToTensor(),\n",
    "                                transforms.Normalize((0.5,), (0.5,)),\n",
    "                              ])\n",
    "# Download and load the training data\n",
    "trainset = datasets.MNIST('~/.pytorch/MNIST_data/', download=True, train=True, transform=transform)\n",
    "trainloader = torch.utils.data.DataLoader(trainset, batch_size=64, shuffle=True)\n"
   ]
  },
  {
   "cell_type": "code",
   "execution_count": 40,
   "id": "341e0db1",
   "metadata": {
    "ExecuteTime": {
     "end_time": "2022-08-11T14:30:24.919057Z",
     "start_time": "2022-08-11T14:30:24.796227Z"
    }
   },
   "outputs": [
    {
     "name": "stdout",
     "output_type": "stream",
     "text": [
      "tensor(2.3120, grad_fn=<NllLossBackward0>)\n"
     ]
    }
   ],
   "source": [
    "# Build a feed-forward network\n",
    "model = nn.Sequential(nn.Linear(784, 128),\n",
    "                      nn.ReLU(),\n",
    "                      nn.Linear(128, 64),\n",
    "                      nn.ReLU(),\n",
    "                      nn.Linear(64, 10))\n",
    "\n",
    "# Define the loss\n",
    "criterion = nn.CrossEntropyLoss()\n",
    "\n",
    "# Get our data\n",
    "dataiter = iter(trainloader)\n",
    "\n",
    "images, labels = next(dataiter)\n",
    "\n",
    "# Flatten images\n",
    "images = images.view(images.shape[0], -1)\n",
    "\n",
    "# Forward pass, get our logits\n",
    "logits = model(images)\n",
    "# Calculate the loss with the logits and the labels\n",
    "loss = criterion(logits, labels)\n",
    "\n",
    "print(loss)"
   ]
  },
  {
   "cell_type": "code",
   "execution_count": 41,
   "id": "6fb8a3c4",
   "metadata": {
    "ExecuteTime": {
     "end_time": "2022-08-11T14:30:25.021197Z",
     "start_time": "2022-08-11T14:30:24.922674Z"
    }
   },
   "outputs": [
    {
     "name": "stdout",
     "output_type": "stream",
     "text": [
      "tensor(2.3055, grad_fn=<NllLossBackward0>)\n"
     ]
    }
   ],
   "source": [
    "## Solution\n",
    "\n",
    "# Build a feed-forward network\n",
    "model = nn.Sequential(nn.Linear(784, 128),\n",
    "                      nn.ReLU(),\n",
    "                      nn.Linear(128, 64),\n",
    "                      nn.ReLU(),\n",
    "                      nn.Linear(64, 10),\n",
    "                      nn.LogSoftmax(dim=1))\n",
    "\n",
    "# Define the loss\n",
    "criterion = nn.NLLLoss()\n",
    "\n",
    "# Get our data\n",
    "images, labels = next(iter(trainloader))\n",
    "# Flatten images\n",
    "images = images.view(images.shape[0], -1)\n",
    "\n",
    "# Forward pass, get our log-probabilities\n",
    "logps = model(images)\n",
    "# Calculate the loss with the logps and the labels\n",
    "loss = criterion(logps, labels)\n",
    "\n",
    "print(loss)"
   ]
  },
  {
   "cell_type": "markdown",
   "id": "0270bfcb",
   "metadata": {},
   "source": [
    "- Exercise: Build a model that returns the log-softmax as the output and calculate the loss using the negative log likelihood loss."
   ]
  },
  {
   "cell_type": "code",
   "execution_count": 42,
   "id": "28842ec6",
   "metadata": {
    "ExecuteTime": {
     "end_time": "2022-08-11T14:30:25.295481Z",
     "start_time": "2022-08-11T14:30:25.023636Z"
    }
   },
   "outputs": [
    {
     "name": "stdout",
     "output_type": "stream",
     "text": [
      "tensor(2.3280, grad_fn=<NllLossBackward0>)\n"
     ]
    }
   ],
   "source": [
    "## Solution\n",
    "\n",
    "# Build a feed-forward network\n",
    "model = nn.Sequential(nn.Linear(784, 128),\n",
    "                      nn.ReLU(),\n",
    "                      nn.Linear(128, 64),\n",
    "                      nn.ReLU(),\n",
    "                      nn.Linear(64, 10),\n",
    "                      nn.LogSoftmax(dim=1))\n",
    "\n",
    "# Define the loss\n",
    "criterion = nn.NLLLoss()\n",
    "\n",
    "# Get our data\n",
    "images, labels = next(iter(trainloader))\n",
    "# Flatten images\n",
    "images = images.view(images.shape[0], -1)\n",
    "\n",
    "# Forward pass, get our log-probabilities\n",
    "logps = model(images)\n",
    "# Calculate the loss with the logps and the labels\n",
    "loss = criterion(logps, labels)\n",
    "\n",
    "print(loss)"
   ]
  },
  {
   "cell_type": "markdown",
   "id": "be17f79e",
   "metadata": {},
   "source": [
    "## Autograd"
   ]
  },
  {
   "cell_type": "code",
   "execution_count": 43,
   "id": "cf2c8dfd",
   "metadata": {
    "ExecuteTime": {
     "end_time": "2022-08-11T14:30:25.393302Z",
     "start_time": "2022-08-11T14:30:25.299684Z"
    }
   },
   "outputs": [],
   "source": [
    "x = torch.randn(2,2, requires_grad = True)"
   ]
  },
  {
   "cell_type": "code",
   "execution_count": 44,
   "id": "737e0098",
   "metadata": {
    "ExecuteTime": {
     "end_time": "2022-08-11T14:30:25.410330Z",
     "start_time": "2022-08-11T14:30:25.397280Z"
    }
   },
   "outputs": [
    {
     "name": "stdout",
     "output_type": "stream",
     "text": [
      "<PowBackward0 object at 0x7f2bd7c6c130>\n"
     ]
    }
   ],
   "source": [
    "y = x**2\n",
    "print(y.grad_fn)"
   ]
  },
  {
   "cell_type": "code",
   "execution_count": 45,
   "id": "933149f3",
   "metadata": {
    "ExecuteTime": {
     "end_time": "2022-08-11T14:30:25.420435Z",
     "start_time": "2022-08-11T14:30:25.413962Z"
    }
   },
   "outputs": [
    {
     "name": "stdout",
     "output_type": "stream",
     "text": [
      "tensor(0.8275, grad_fn=<MeanBackward0>)\n"
     ]
    }
   ],
   "source": [
    "z = y.mean()\n",
    "print(z)"
   ]
  },
  {
   "cell_type": "code",
   "execution_count": 46,
   "id": "00bb3d78",
   "metadata": {
    "ExecuteTime": {
     "end_time": "2022-08-11T14:30:25.428014Z",
     "start_time": "2022-08-11T14:30:25.423274Z"
    }
   },
   "outputs": [
    {
     "name": "stdout",
     "output_type": "stream",
     "text": [
      "None\n"
     ]
    }
   ],
   "source": [
    "print(x.grad)"
   ]
  },
  {
   "cell_type": "code",
   "execution_count": 47,
   "id": "57fa6fab",
   "metadata": {
    "ExecuteTime": {
     "end_time": "2022-08-11T14:30:25.437150Z",
     "start_time": "2022-08-11T14:30:25.430746Z"
    }
   },
   "outputs": [
    {
     "name": "stdout",
     "output_type": "stream",
     "text": [
      "tensor([[ 0.4396, -0.1170],\n",
      "        [ 0.7747,  0.1429]])\n",
      "tensor([[ 0.4396, -0.1170],\n",
      "        [ 0.7747,  0.1429]], grad_fn=<DivBackward0>)\n"
     ]
    }
   ],
   "source": [
    "z.backward()\n",
    "print(x.grad)\n",
    "print(x/2)"
   ]
  },
  {
   "cell_type": "markdown",
   "id": "760eda1f",
   "metadata": {},
   "source": [
    "## Loss and Autograd together"
   ]
  },
  {
   "cell_type": "code",
   "execution_count": 48,
   "id": "b2af0b60",
   "metadata": {
    "ExecuteTime": {
     "end_time": "2022-08-11T14:30:25.512574Z",
     "start_time": "2022-08-11T14:30:25.439755Z"
    }
   },
   "outputs": [],
   "source": [
    "# Build a feed-forward network\n",
    "model = nn.Sequential(nn.Linear(784, 128),\n",
    "                      nn.ReLU(),\n",
    "                      nn.Linear(128, 64),\n",
    "                      nn.ReLU(),\n",
    "                      nn.Linear(64, 10),\n",
    "                      nn.LogSoftmax(dim=1))\n",
    "\n",
    "criterion = nn.NLLLoss()\n",
    "images, labels = next(iter(trainloader))\n",
    "images = images.view(images.shape[0], -1)\n",
    "\n",
    "logps = model(images)\n",
    "loss = criterion(logps, labels)"
   ]
  },
  {
   "cell_type": "code",
   "execution_count": 49,
   "id": "1c987b92",
   "metadata": {
    "ExecuteTime": {
     "end_time": "2022-08-11T14:30:25.703799Z",
     "start_time": "2022-08-11T14:30:25.593059Z"
    }
   },
   "outputs": [
    {
     "name": "stdout",
     "output_type": "stream",
     "text": [
      "Before backward pass: \n",
      " None\n",
      "After backward pass: \n",
      " tensor([[ 0.0011,  0.0011,  0.0011,  ...,  0.0011,  0.0011,  0.0011],\n",
      "        [-0.0024, -0.0024, -0.0024,  ..., -0.0024, -0.0024, -0.0024],\n",
      "        [ 0.0032,  0.0032,  0.0032,  ...,  0.0032,  0.0032,  0.0032],\n",
      "        ...,\n",
      "        [-0.0004, -0.0004, -0.0004,  ..., -0.0004, -0.0004, -0.0004],\n",
      "        [ 0.0006,  0.0006,  0.0006,  ...,  0.0006,  0.0006,  0.0006],\n",
      "        [ 0.0010,  0.0010,  0.0010,  ...,  0.0010,  0.0010,  0.0010]])\n"
     ]
    }
   ],
   "source": [
    "print('Before backward pass: \\n', model[0].weight.grad)\n",
    "\n",
    "loss.backward()\n",
    "\n",
    "print('After backward pass: \\n', model[0].weight.grad)\n"
   ]
  },
  {
   "cell_type": "markdown",
   "id": "ae52903f",
   "metadata": {},
   "source": [
    "## Training the network"
   ]
  },
  {
   "cell_type": "code",
   "execution_count": 50,
   "id": "66e9e3c7",
   "metadata": {
    "ExecuteTime": {
     "end_time": "2022-08-11T14:30:25.791991Z",
     "start_time": "2022-08-11T14:30:25.707720Z"
    }
   },
   "outputs": [],
   "source": [
    "from torch import optim\n",
    "\n",
    "# Optimizers require the parameters to optimize and a learning rate\n",
    "optimizer = optim.SGD(model.parameters(), lr=0.01)"
   ]
  },
  {
   "cell_type": "code",
   "execution_count": 51,
   "id": "035b1687",
   "metadata": {
    "ExecuteTime": {
     "end_time": "2022-08-11T14:30:25.918027Z",
     "start_time": "2022-08-11T14:30:25.796310Z"
    }
   },
   "outputs": [
    {
     "name": "stdout",
     "output_type": "stream",
     "text": [
      "Initial weights -  Parameter containing:\n",
      "tensor([[-0.0315,  0.0102,  0.0103,  ...,  0.0069,  0.0087, -0.0176],\n",
      "        [ 0.0084, -0.0258, -0.0281,  ..., -0.0036,  0.0103,  0.0313],\n",
      "        [ 0.0140,  0.0226,  0.0179,  ..., -0.0054,  0.0221, -0.0220],\n",
      "        ...,\n",
      "        [ 0.0103,  0.0321, -0.0129,  ..., -0.0332,  0.0354,  0.0009],\n",
      "        [-0.0117, -0.0044, -0.0174,  ..., -0.0015, -0.0172, -0.0221],\n",
      "        [ 0.0136,  0.0149, -0.0242,  ..., -0.0210, -0.0223,  0.0136]],\n",
      "       requires_grad=True)\n",
      "Gradient - tensor([[ 0.0014,  0.0014,  0.0014,  ...,  0.0014,  0.0014,  0.0014],\n",
      "        [-0.0010, -0.0010, -0.0010,  ..., -0.0010, -0.0010, -0.0010],\n",
      "        [-0.0020, -0.0020, -0.0020,  ..., -0.0020, -0.0020, -0.0020],\n",
      "        ...,\n",
      "        [-0.0007, -0.0007, -0.0007,  ..., -0.0007, -0.0007, -0.0007],\n",
      "        [-0.0010, -0.0010, -0.0010,  ..., -0.0010, -0.0010, -0.0010],\n",
      "        [ 0.0015,  0.0015,  0.0015,  ...,  0.0015,  0.0015,  0.0015]])\n"
     ]
    }
   ],
   "source": [
    "print('Initial weights - ', model[0].weight)\n",
    "\n",
    "images, labels = next(iter(trainloader))\n",
    "images.resize_(64, 784)\n",
    "\n",
    "# Clear the gradients, do this because gradients are accumulated\n",
    "optimizer.zero_grad()\n",
    "\n",
    "# Forward pass, then backward pass, then update weights\n",
    "output = model(images)\n",
    "loss = criterion(output, labels)\n",
    "loss.backward()\n",
    "print('Gradient -', model[0].weight.grad)"
   ]
  },
  {
   "cell_type": "code",
   "execution_count": 52,
   "id": "224e6fb7",
   "metadata": {
    "ExecuteTime": {
     "end_time": "2022-08-11T14:30:26.000127Z",
     "start_time": "2022-08-11T14:30:25.920852Z"
    }
   },
   "outputs": [
    {
     "name": "stdout",
     "output_type": "stream",
     "text": [
      "Updated weights -  Parameter containing:\n",
      "tensor([[-0.0315,  0.0102,  0.0103,  ...,  0.0069,  0.0087, -0.0176],\n",
      "        [ 0.0085, -0.0257, -0.0281,  ..., -0.0036,  0.0104,  0.0313],\n",
      "        [ 0.0140,  0.0226,  0.0179,  ..., -0.0054,  0.0221, -0.0220],\n",
      "        ...,\n",
      "        [ 0.0103,  0.0321, -0.0129,  ..., -0.0332,  0.0354,  0.0009],\n",
      "        [-0.0117, -0.0044, -0.0174,  ..., -0.0015, -0.0172, -0.0221],\n",
      "        [ 0.0136,  0.0149, -0.0242,  ..., -0.0210, -0.0223,  0.0136]],\n",
      "       requires_grad=True)\n"
     ]
    }
   ],
   "source": [
    "# Take an update step and few the new weights\n",
    "optimizer.step()\n",
    "print('Updated weights - ', model[0].weight)"
   ]
  },
  {
   "cell_type": "markdown",
   "id": "6572bc57",
   "metadata": {},
   "source": [
    "### Exercise: Implement the training pass for our network. If you implemented it correctly, you should see the training loss drop with each epoch."
   ]
  },
  {
   "cell_type": "code",
   "execution_count": 53,
   "id": "b3cdd5e9",
   "metadata": {
    "ExecuteTime": {
     "end_time": "2022-08-11T14:40:49.691792Z",
     "start_time": "2022-08-11T14:30:26.093338Z"
    }
   },
   "outputs": [
    {
     "name": "stdout",
     "output_type": "stream",
     "text": [
      "Training loss: 1.891716837120463\n",
      "Training loss: 0.8333756375287388\n",
      "Training loss: 0.5195011826498168\n",
      "Training loss: 0.4257844111431382\n",
      "Training loss: 0.3814908924228601\n"
     ]
    }
   ],
   "source": [
    "model = nn.Sequential(nn.Linear(784, 128),\n",
    "                      nn.ReLU(),\n",
    "                      nn.Linear(128, 64),\n",
    "                      nn.ReLU(),\n",
    "                      nn.Linear(64, 10),\n",
    "                      nn.LogSoftmax(dim=1))\n",
    "\n",
    "criterion = nn.NLLLoss()\n",
    "optimizer = optim.SGD(model.parameters(), lr=0.003)\n",
    "\n",
    "epochs = 5\n",
    "for e in range(epochs):\n",
    "    running_loss = 0\n",
    "    for images, labels in trainloader:\n",
    "        # Flatten MNIST images into a 784 long vector\n",
    "        images = images.view(images.shape[0], -1)\n",
    "    \n",
    "        # TODO: Training pass\n",
    "        optimizer.zero_grad()\n",
    "        \n",
    "        \n",
    "        output = model(images)\n",
    "        loss = criterion(output, labels)\n",
    "        loss.backward()\n",
    "        optimizer.step()\n",
    "        \n",
    "        running_loss += loss.item()\n",
    "    else:\n",
    "        print(f\"Training loss: {running_loss/len(trainloader)}\")"
   ]
  },
  {
   "cell_type": "code",
   "execution_count": 69,
   "id": "2c6560bc",
   "metadata": {
    "ExecuteTime": {
     "end_time": "2022-08-11T14:51:34.603174Z",
     "start_time": "2022-08-11T14:51:34.033139Z"
    }
   },
   "outputs": [
    {
     "data": {
      "image/png": "[encoded data removed]",
      "text/plain": [
       "<Figure size 432x648 with 2 Axes>"
      ]
     },
     "metadata": {
      "image/png": {
       "height": 235,
       "width": 424
      },
      "needs_background": "light"
     },
     "output_type": "display_data"
    }
   ],
   "source": [
    "%matplotlib inline\n",
    "\n",
    "images, labels = next(iter(trainloader))\n",
    "\n",
    "img = images[0].view(1, 784)\n",
    "# Turn off gradients to speed up this part\n",
    "with torch.no_grad():\n",
    "    logits = model.forward(img)\n",
    "\n",
    "# Output of the network are log-probabilities, need to take exponential for probabilities\n",
    "ps = F.softmax(logits, dim = 1)\n",
    "helper.view_classify(img.view(1, 28, 28), ps)"
   ]
  },
  {
   "cell_type": "code",
   "execution_count": null,
   "id": "cc7d2a79",
   "metadata": {
    "ExecuteTime": {
     "end_time": "2022-08-11T14:51:28.872536Z",
     "start_time": "2022-08-11T14:51:28.861504Z"
    }
   },
   "outputs": [],
   "source": []
  },
  {
   "cell_type": "code",
   "execution_count": null,
   "id": "37fcb445",
   "metadata": {},
   "outputs": [],
   "source": []
  }
 ],
 "metadata": {
  "kernelspec": {
   "display_name": "Python 3 (ipykernel)",
   "language": "python",
   "name": "python3"
  },
  "language_info": {
   "codemirror_mode": {
    "name": "ipython",
    "version": 3
   },
   "file_extension": ".py",
   "mimetype": "text/x-python",
   "name": "python",
   "nbconvert_exporter": "python",
   "pygments_lexer": "ipython3",
   "version": "3.9.13"
  },
  "toc": {
   "base_numbering": 1,
   "nav_menu": {},
   "number_sections": true,
   "sideBar": true,
   "skip_h1_title": false,
   "title_cell": "Table of Contents",
   "title_sidebar": "Contents",
   "toc_cell": false,
   "toc_position": {},
   "toc_section_display": true,
   "toc_window_display": false
  }
 },
 "nbformat": 4,
 "nbformat_minor": 5
}
